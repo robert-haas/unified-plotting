{
 "cells": [
  {
   "cell_type": "markdown",
   "metadata": {},
   "source": [
    "# Fetch and prepare human interactome data\n",
    "\n",
    "This Jupyter notebook fetches TSV data from [The Human Reference Protein Interactome Mapping Project](http://www.interactome-atlas.org) and extracts connectivity information from it for constructing a protein-protein interaction (PPi) network."
   ]
  },
  {
   "cell_type": "code",
   "execution_count": null,
   "metadata": {},
   "outputs": [],
   "source": [
    "import os\n",
    "\n",
    "import pandas as pd"
   ]
  },
  {
   "cell_type": "markdown",
   "metadata": {},
   "source": [
    "## HuRI"
   ]
  },
  {
   "cell_type": "code",
   "execution_count": null,
   "metadata": {},
   "outputs": [],
   "source": [
    "# Load TSV data from website\n",
    "url = 'http://www.interactome-atlas.org/data/HuRI.tsv'\n",
    "df = pd.read_csv(url, sep='\\t', header=None)\n",
    "\n",
    "# Check consistency\n",
    "for row in df.values:\n",
    "    p1, p2 = row\n",
    "    assert p1.startswith('ENSG') and p2.startswith('ENSG')\n",
    "\n",
    "# Save to networks directory\n",
    "filepath = os.path.join('..', 'networks', 'HuRI.tsv')\n",
    "with open(filepath, 'w') as file_handle:\n",
    "    df.to_csv(file_handle, sep='\\t', index=False, header=False)"
   ]
  },
  {
   "cell_type": "markdown",
   "metadata": {},
   "source": [
    "## HI-union"
   ]
  },
  {
   "cell_type": "code",
   "execution_count": null,
   "metadata": {},
   "outputs": [],
   "source": [
    "# Load TSV data from website (243 MB, takes some time)\n",
    "url = 'http://www.interactome-atlas.org/data/HI-union.tsv'\n",
    "column_names = ['Protein1', 'Protein2']\n",
    "df = pd.read_csv(url, sep='\\t', header=None, usecols=[0, 1], names=column_names)\n",
    "\n",
    "# Drop rows that contain only 'sequence    identification)'\n",
    "first_column = column_names[0]\n",
    "mask = df[first_column] != 'sequence'\n",
    "df = df[mask]\n",
    "\n",
    "# Remove prefix 'uniprotkb:' but leave 'ensembl:' as it is\n",
    "def remove_prefix(word):\n",
    "    prefix1 = 'uniprotkb:'\n",
    "    prefix2 = 'ensembl:'\n",
    "    if word.startswith(prefix1):\n",
    "        new_word = word.lstrip(prefix1)\n",
    "    elif word.startswith(prefix2):\n",
    "        new_word = word\n",
    "    else:\n",
    "        raise ValueError('Word does not contain any accepted prefix:', word)\n",
    "    return new_word\n",
    "\n",
    "for col in column_names:\n",
    "    df[col] = [remove_prefix(word) for word in df[col].tolist()]\n",
    "\n",
    "# Save to networks directory\n",
    "filepath = os.path.join('..', 'networks', 'HI-union-minimal.tsv')\n",
    "with open(filepath, 'w') as file_handle:\n",
    "    df.to_csv(file_handle, sep='\\t', index=False, header=False)"
   ]
  }
 ],
 "metadata": {
  "kernelspec": {
   "display_name": "Python 3",
   "language": "python",
   "name": "python3"
  },
  "language_info": {
   "codemirror_mode": {
    "name": "ipython",
    "version": 3
   },
   "file_extension": ".py",
   "mimetype": "text/x-python",
   "name": "python",
   "nbconvert_exporter": "python",
   "pygments_lexer": "ipython3",
   "version": "3.6.9"
  }
 },
 "nbformat": 4,
 "nbformat_minor": 2
}
