{
 "cells": [
  {
   "cell_type": "markdown",
   "metadata": {},
   "source": [
    "# Create network of neighboring countries\n",
    "\n",
    "This Jupyter notebook fetches HTML data from Wikipedia and parses the information in it to get countries and neighboring countries.\n",
    "\n",
    "## References\n",
    "\n",
    "- Wikipedia:\n",
    "    - [List of countries and territories by land borders](https://en.wikipedia.org/wiki/List_of_countries_and_territories_by_land_borders)\n",
    "    - [List of countries and territories by land and maritime borders](https://en.wikipedia.org/wiki/List_of_countries_and_territories_by_land_and_maritime_borders)"
   ]
  },
  {
   "cell_type": "code",
   "execution_count": null,
   "metadata": {},
   "outputs": [],
   "source": [
    "import json\n",
    "import os\n",
    "\n",
    "import requests\n",
    "from bs4 import BeautifulSoup"
   ]
  },
  {
   "cell_type": "markdown",
   "metadata": {},
   "source": [
    "## Land and maritime borders\n",
    "\n",
    "### Get HTML text from Wikipedia"
   ]
  },
  {
   "cell_type": "code",
   "execution_count": null,
   "metadata": {},
   "outputs": [],
   "source": [
    "url = 'https://en.wikipedia.org/wiki/List_of_countries_and_territories_by_land_and_maritime_borders'\n",
    "response = requests.get(url)\n",
    "html_text = response.text"
   ]
  },
  {
   "cell_type": "markdown",
   "metadata": {},
   "source": [
    "### Parse HTML text\n",
    "\n",
    "Find the table, iterate over the rows and extract information from each."
   ]
  },
  {
   "cell_type": "code",
   "execution_count": null,
   "metadata": {},
   "outputs": [],
   "source": [
    "soup = BeautifulSoup(html_text, 'html.parser')\n",
    "table = soup.find('table', {'class': 'wikitable sortable'})\n",
    "rows = table.find_all('tr')\n",
    "\n",
    "\n",
    "def parse_row(row):\n",
    "    columns = row.find_all('td')\n",
    "\n",
    "    # Source in column 0\n",
    "    source = columns[0]\n",
    "    source_name = source.a.text\n",
    "    if not source_name:\n",
    "        source_name = source.text.strip().split('[')[0].strip()\n",
    "    \n",
    "    # Number of neighbor countries in column 3\n",
    "    num_targets = columns[3].text.strip()\n",
    "    if '(' in num_targets:\n",
    "        num_targets = num_targets.split('(')[1].split(')')[0].strip()\n",
    "    num_targets = int(num_targets)\n",
    "    \n",
    "    # Neighbor countries in column 4\n",
    "    targets = columns[4]\n",
    "    target_names = [t.text for t in targets.find_all('a')\n",
    "                    if t.text\n",
    "                    and t['href'].startswith('/wiki/')\n",
    "                    and not t.parent.text.startswith('(')]\n",
    "    \n",
    "    # Excluding cases (\"Kingdom of ...\", \"Realm of ...\")\n",
    "    if 'includes' in source.text:\n",
    "        return False\n",
    "    if len(target_names) == 0:\n",
    "        return False\n",
    "\n",
    "    # Cleaning special cases, inspected manually\n",
    "    if source_name == 'Australia (excluding outlying islands)':  # remove specifying comment in country name\n",
    "        source_name = 'Australia'\n",
    "    if source_name == 'Mauritania':\n",
    "        target_names = target_names[:5]  # remove 2 extra links from a comment about Western Sahara\n",
    "    if source_name == 'Norway':\n",
    "        target_names = target_names[:7]  # remove 1 extra link that specifies a part of a country\n",
    "    if source_name == 'Pitcairn Islands':\n",
    "        target_names = target_names[:1]  # remove 1 extra link that specifies a part of a country\n",
    "    if source_name == 'Russia':\n",
    "        target_names = target_names[:20]  # remove 1 extra link that specifies a part of a country\n",
    "    if source_name == 'Serbia':\n",
    "        target_names = target_names[:8]  # remove 2 extra links from a comment about Kosovo\n",
    "    if source_name == 'Turkey':\n",
    "        target_names = target_names[:12]  # remove 1 extra link from a comment about Cyprus\n",
    "    if 'United Nations Buffer Zone in Cyprus' in target_names:  # remove UN zone which is not counted as country\n",
    "        target_names = [t for t in target_names if t != 'United Nations Buffer Zone in Cyprus']\n",
    "\n",
    "    if num_targets != len(target_names):\n",
    "        print('Caution: Given number of targets ({}) does not fit to length of target list ({})'.format(\n",
    "            num_targets, len(target_names)))\n",
    "    return source_name, target_names\n",
    "\n",
    "\n",
    "data = {}\n",
    "for i, row in enumerate(rows[3:]):\n",
    "    try:\n",
    "        result = parse_row(row)\n",
    "        if not result:\n",
    "            continue  # Skip it, either has no neighbors or is a group of countries\n",
    "        source_name, target_names = result\n",
    "        data[source_name] = target_names\n",
    "    except Exception as e:\n",
    "        columns = row.find_all('td')\n",
    "        print(i, 'error:', e, len(columns), columns[0].text)\n",
    "\n",
    "print('Parsed border data, found {} countries and their neighbors.'.format(len(data)))"
   ]
  },
  {
   "cell_type": "markdown",
   "metadata": {},
   "source": [
    "### Export data as adjacency list to a JSON file"
   ]
  },
  {
   "cell_type": "code",
   "execution_count": null,
   "metadata": {},
   "outputs": [],
   "source": [
    "filepath = os.path.join('..', 'networks', 'neighboring_countries.json')\n",
    "with open(filepath, 'w') as file_handle:\n",
    "    json.dump(data, file_handle)"
   ]
  }
 ],
 "metadata": {
  "kernelspec": {
   "display_name": "Python 3",
   "language": "python",
   "name": "python3"
  },
  "language_info": {
   "codemirror_mode": {
    "name": "ipython",
    "version": 3
   },
   "file_extension": ".py",
   "mimetype": "text/x-python",
   "name": "python",
   "nbconvert_exporter": "python",
   "pygments_lexer": "ipython3",
   "version": "3.6.9"
  }
 },
 "nbformat": 4,
 "nbformat_minor": 2
}
